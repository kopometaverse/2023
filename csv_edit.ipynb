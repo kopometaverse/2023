{
  "nbformat": 4,
  "nbformat_minor": 0,
  "metadata": {
    "colab": {
      "provenance": [],
      "authorship_tag": "ABX9TyNnw8pUfoAY4L6PfpjxKNSq",
      "include_colab_link": true
    },
    "kernelspec": {
      "name": "python3",
      "display_name": "Python 3"
    },
    "language_info": {
      "name": "python"
    }
  },
  "cells": [
    {
      "cell_type": "markdown",
      "metadata": {
        "id": "view-in-github",
        "colab_type": "text"
      },
      "source": [
        "<a href=\"https://colab.research.google.com/github/kopometaverse/2023/blob/main/csv_edit.ipynb\" target=\"_parent\"><img src=\"https://colab.research.google.com/assets/colab-badge.svg\" alt=\"Open In Colab\"/></a>"
      ]
    },
    {
      "cell_type": "code",
      "source": [
        "#csv 라이브러리 가져오기\n",
        "import csv\n",
        "\n",
        "#CSV 파일 불러오기\n",
        "f = open('write.csv', 'w', encoding='utf-8', newline='')\n",
        "\n",
        "#CSV 파일 작성할 준비하기\n",
        "wr = csv.writer(f)\n",
        "\n",
        "#데이터를 한 행씩 작성하기\n",
        "wr.writerow(['ID', '이름', '상징색', '취미', '특징'])\n",
        "wr.writerow(['001', '뽀로로', '파랑색', '낚시', '펭귄'])\n",
        "wr.writerow(['002', '에디', '주황색', '과학실험', '사막여우'])\n",
        "wr.writerow(['003', '크롱', '초록색', '눈싸움', '공룡'])\n",
        "wr.writerow(['004', '루피', '분홍색', '요리', '비버'])\n",
        "wr.writerow(['005', '패티', '보라색', '운동', '펭귄'])\n",
        "\n",
        "\n",
        "#f 변수의 자원 반환하기\n",
        "f.close( )"
      ],
      "metadata": {
        "id": "dnbdoKCeZy8p"
      },
      "execution_count": 6,
      "outputs": []
    },
    {
      "cell_type": "code",
      "source": [
        "f = open('write.csv','a', encoding='utf-8', newline='')\n",
        "wr = csv.writer(f)\n",
        "\n",
        "wr.writerow(['006','포비','흰색','춤','북극곰'])\n",
        "\n",
        "#f 변수의 자원 반환하기\n",
        "f.close( )"
      ],
      "metadata": {
        "id": "2gFbqFGgawHN"
      },
      "execution_count": 9,
      "outputs": []
    }
  ]
}