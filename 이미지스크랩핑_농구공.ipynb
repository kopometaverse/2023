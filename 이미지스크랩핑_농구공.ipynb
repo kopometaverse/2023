{
  "nbformat": 4,
  "nbformat_minor": 0,
  "metadata": {
    "colab": {
      "provenance": [],
      "authorship_tag": "ABX9TyMngDwOJvIcM7JhLLz8R8lR",
      "include_colab_link": true
    },
    "kernelspec": {
      "name": "python3",
      "display_name": "Python 3"
    },
    "language_info": {
      "name": "python"
    }
  },
  "cells": [
    {
      "cell_type": "markdown",
      "metadata": {
        "id": "view-in-github",
        "colab_type": "text"
      },
      "source": [
        "<a href=\"https://colab.research.google.com/github/kopometaverse/2023/blob/main/%EC%9D%B4%EB%AF%B8%EC%A7%80%EC%8A%A4%ED%81%AC%EB%9E%A9%ED%95%91_%EB%86%8D%EA%B5%AC%EA%B3%B5.ipynb\" target=\"_parent\"><img src=\"https://colab.research.google.com/assets/colab-badge.svg\" alt=\"Open In Colab\"/></a>"
      ]
    },
    {
      "cell_type": "code",
      "execution_count": null,
      "metadata": {
        "colab": {
          "base_uri": "https://localhost:8080/"
        },
        "id": "cS_6JVSnDHnV",
        "outputId": "4c9aa6ad-df2e-4d1b-a778-fb04ed565503"
      },
      "outputs": [
        {
          "output_type": "stream",
          "name": "stdout",
          "text": [
            "Collecting bing-image-downloader\n",
            "  Downloading bing_image_downloader-1.1.2-py3-none-any.whl (5.9 kB)\n",
            "Installing collected packages: bing-image-downloader\n",
            "Successfully installed bing-image-downloader-1.1.2\n"
          ]
        }
      ],
      "source": [
        "!pip install bing-image-downloader"
      ]
    },
    {
      "cell_type": "code",
      "source": [
        "from bing_image_downloader import downloader # bing_image_downloader 모듈에서 downloader를 가져옴\n",
        "\n",
        "from pathlib import Path # pathlib 모듈에서 Path를 가져옴\n",
        "\n",
        "\n",
        "def download_images(keyword, num_images, file_name):\n",
        "\n",
        "    output_directory = \"images\" # 이미지를 저장할 폴더 이름\n",
        "\n",
        "    downloader.download(keyword, limit=num_images, output_dir=output_directory, adult_filter_off=True, force_replace=False, timeout=60) # 이미지 다운로드\n",
        "\n",
        "\n",
        "    root = Path().cwd() / output_directory # 이미지 저장 폴더의 경로\n",
        "\n",
        "    downloaded_files = list(root.glob(\"*.*\")) # 폴더 내 모든 파일 가져오기\n",
        "\n",
        "    for i, file in enumerate(downloaded_files): # 다운로드된 각 파일에 대해 반복\n",
        "\n",
        "        extention = file.suffix # 파일 확장자\n",
        "\n",
        "        new_file_name = f\"{file_name}{i+1}{extension}\" # 새로운 파일 이름\n",
        "\n",
        "        new_file_path = root / new_file_name # 새로운 파일 경로\n",
        "\n",
        "        file.rename(new_file_path) # 파일 이름 변경\n",
        "\n",
        "\n",
        "# 사용 예시\n",
        "\n",
        "keyword = \"농구공\" # 이미지 검색 키워드\n",
        "\n",
        "num_images = 30 # 다운로드할 이미지 수\n",
        "\n",
        "file_name = \"농구공\" # 파일 이름\n",
        "\n",
        "\n",
        "download_images(keyword, num_images, file_name) # 이미지 다운로드"
      ],
      "metadata": {
        "colab": {
          "base_uri": "https://localhost:8080/"
        },
        "id": "mDsrJ9cqEG6z",
        "outputId": "d8036346-8850-4906-e993-67c3e2d11d94"
      },
      "execution_count": null,
      "outputs": [
        {
          "output_type": "stream",
          "name": "stdout",
          "text": [
            "[%] Downloading Images to /content/images/농구공\n",
            "\n",
            "\n",
            "[!!]Indexing page: 1\n",
            "\n",
            "[%] Indexed 30 Images on Page 1.\n",
            "\n",
            "===============================================\n",
            "\n",
            "[%] Downloading Image #1 from https://www.wilson.co.kr/shop/data/goods/M_WTB7100XB_view_2.png\n",
            "[%] File Downloaded !\n",
            "\n",
            "[%] Downloading Image #2 from http://www.starsports.co.kr/fileupload/goods/imgB_1_20160629am115705.jpg\n",
            "[%] File Downloaded !\n",
            "\n",
            "[%] Downloading Image #3 from https://www.wilson.co.kr/shop/data/goods/M_WTB0516WTB0586_view_1.png\n",
            "[%] File Downloaded !\n",
            "\n",
            "[%] Downloading Image #4 from https://starsports.co.kr/fileupload/goods/BB4667-3.jpg\n",
            "[%] File Downloaded !\n",
            "\n",
            "[%] Downloading Image #5 from https://www.wilson.co.kr/shop/data/goods/M_WTB9300XB06_view_1.png\n",
            "[%] File Downloaded !\n",
            "\n",
            "[%] Downloading Image #6 from https://cdn.imweb.me/thumbnail/20190523/5ce655679670a.jpg\n",
            "[%] File Downloaded !\n",
            "\n",
            "[%] Downloading Image #7 from https://www.wilson.co.kr/shop/data/goods/M_WTB3100XBLAC_view_3.png\n",
            "[%] File Downloaded !\n",
            "\n",
            "[%] Downloading Image #8 from https://starsports.co.kr/fileupload/goods/BB4657-2(2).jpg\n",
            "[%] File Downloaded !\n",
            "\n",
            "[%] Downloading Image #9 from http://www.starsports.co.kr/fileupload/goods/BB317_1.jpg\n",
            "[%] File Downloaded !\n",
            "\n",
            "[%] Downloading Image #10 from http://blogthumb2.naver.net/20160409_115/jm492855_1460160227481Yu0s2_JPEG/%B3%AA%C0%CC%C5%B0_4005_1.jpg?type=w2\n",
            "[%] File Downloaded !\n",
            "\n",
            "[%] Downloading Image #11 from http://imgpark.donga.com/mbs/fileUpload/201506/08/5575443016c1d32f7bca.jpg\n",
            "[!] Issue getting: http://imgpark.donga.com/mbs/fileUpload/201506/08/5575443016c1d32f7bca.jpg\n",
            "[!] Error:: HTTP Error 401: Authorization Required\n",
            "[%] Downloading Image #11 from https://www.wilson.co.kr/shop/data/goods/M_WTB9302XB_view_1.png\n",
            "[%] File Downloaded !\n",
            "\n",
            "[%] Downloading Image #12 from https://cdn.pixabay.com/photo/2014/09/05/02/43/basketball-436088_960_720.jpg\n",
            "[%] File Downloaded !\n",
            "\n",
            "[%] Downloading Image #13 from https://i.pinimg.com/originals/49/89/7b/49897b725484e5fb103d99234a38c215.png\n",
            "[%] File Downloaded !\n",
            "\n",
            "[%] Downloading Image #14 from http://postfiles7.naver.net/20150127_278/sxxxnmmm_1422365713288wpk03_JPEG/20150127_220017.jpg?type=w3\n",
            "[%] File Downloaded !\n",
            "\n",
            "[%] Downloading Image #15 from https://cdn.imweb.me/thumbnail/20200408/eaa34932cfe33.jpg\n",
            "[%] File Downloaded !\n",
            "\n",
            "[%] Downloading Image #16 from https://cdn.pixabay.com/photo/2012/04/13/00/37/basketball-31347_960_720.png\n",
            "[%] File Downloaded !\n",
            "\n",
            "[%] Downloading Image #17 from https://i.pinimg.com/originals/52/50/58/525058dee6a3b73ffdf712370c3d7144.jpg\n",
            "[%] File Downloaded !\n",
            "\n",
            "[%] Downloading Image #18 from https://www.wilson.co.kr/shop/data/goods/M_WTB4905XB06_view_2.png\n",
            "[%] File Downloaded !\n",
            "\n",
            "[%] Downloading Image #19 from https://www.wilson.co.kr/shop/data/goods/M_WTB8102XB_view_1.png\n",
            "[%] File Downloaded !\n",
            "\n",
            "[%] Downloading Image #20 from https://www.wilson.co.kr/shop/data/goods/M_WTB5200XB006_view_2.png\n",
            "[%] File Downloaded !\n",
            "\n",
            "[%] Downloading Image #21 from https://www.urbanbrush.net/web/wp-content/uploads/edd/2021/11/urbanbrush-20211101093857184475.jpg\n",
            "[%] File Downloaded !\n",
            "\n",
            "[%] Downloading Image #22 from http://www.doopedia.co.kr/_upload/image/1205/22/120522017757976/120522017757976_thumb_400.jpg\n",
            "[%] File Downloaded !\n",
            "\n",
            "[%] Downloading Image #23 from https://www.giledu.co.kr/data/goods/18/06/22/1000000283/1527052815413l0.jpg\n",
            "[Error]Invalid image, not saving https://www.giledu.co.kr/data/goods/18/06/22/1000000283/1527052815413l0.jpg\n",
            "\n",
            "[!] Issue getting: https://www.giledu.co.kr/data/goods/18/06/22/1000000283/1527052815413l0.jpg\n",
            "[!] Error:: Invalid image, not saving https://www.giledu.co.kr/data/goods/18/06/22/1000000283/1527052815413l0.jpg\n",
            "\n",
            "[%] Downloading Image #23 from https://i.ytimg.com/vi/ZTIi5TGxAUw/maxresdefault.jpg\n",
            "[%] File Downloaded !\n",
            "\n",
            "[%] Downloading Image #24 from http://gdimg.gmarket.co.kr/630743965/still/600?ver=0\n",
            "[%] File Downloaded !\n",
            "\n",
            "[%] Downloading Image #25 from https://st3.depositphotos.com/9973172/15169/v/950/depositphotos_151693548-stock-illustration-basketball-ball-isolated-on-transparent.jpg\n",
            "[%] File Downloaded !\n",
            "\n",
            "[%] Downloading Image #26 from http://postfiles9.naver.net/20151230_216/ditmfkrl_1451464632613C2D8o_JPEG/DSC02626.jpg?type=w1\n",
            "[%] File Downloaded !\n",
            "\n",
            "[%] Downloading Image #27 from http://postfiles14.naver.net/20130417_157/basketman86_1366174312537XNved_JPEG/fsryt.jpg?type=w1\n",
            "[%] File Downloaded !\n",
            "\n",
            "[%] Downloading Image #28 from https://t1.daumcdn.net/cfile/tistory/131D5F0F4AC2180F4A\n",
            "[%] File Downloaded !\n",
            "\n",
            "\n",
            "\n",
            "[!!]Indexing page: 2\n",
            "\n",
            "[%] Indexed 35 Images on Page 2.\n",
            "\n",
            "===============================================\n",
            "\n",
            "[%] Downloading Image #29 from https://cdn.ibispaint.com/movie/144/42/144042914/image144042914l.png\n",
            "[%] File Downloaded !\n",
            "\n",
            "[%] Downloading Image #30 from http://img.danawa.com/cms/img/2011/03/14/2-2-1-206(1)_thumb.jpg\n",
            "[%] File Downloaded !\n",
            "\n",
            "\n",
            "\n",
            "[%] Done. Downloaded 30 images.\n"
          ]
        }
      ]
    },
    {
      "cell_type": "code",
      "source": [
        "import shutil\n",
        "\n",
        "def compress_folder(folder_path, output_path):\n",
        "\n",
        "    shutil.make_archive(output_path, 'zip', folder_path)\n",
        "\n",
        "# 이미지 저장 폴더 압축\n",
        "\n",
        "folder_path = \"images\"\n",
        "output_path = \"images\"\n",
        "\n",
        "compress_folder(folder_path, output_path)"
      ],
      "metadata": {
        "id": "r3tawx1RGWQC"
      },
      "execution_count": null,
      "outputs": []
    }
  ]
}